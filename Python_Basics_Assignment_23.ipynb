{
 "cells": [
  {
   "cell_type": "markdown",
   "id": "247681a2-5337-4432-9c30-3e213f914816",
   "metadata": {},
   "source": [
    "### Python_Basics_Assignment_23"
   ]
  },
  {
   "cell_type": "markdown",
   "id": "c5d9ff32-6eb2-4e09-9742-69a37bdee31d",
   "metadata": {},
   "source": [
    "#### 1. What is the result of the code, and why?\n",
    "&gt;&gt;&gt; def func(a, b=6, c=8):\n",
    "print(a, b, c)\n",
    "&gt;&gt;&gt; func(1, 2)"
   ]
  },
  {
   "cell_type": "code",
   "execution_count": 6,
   "id": "b37fa249-19be-4b5e-9c1d-4e0ea59bc0ce",
   "metadata": {},
   "outputs": [],
   "source": [
    "def func(a, b=6, c=8):\n",
    "    print(a, b, c)"
   ]
  },
  {
   "cell_type": "code",
   "execution_count": 7,
   "id": "c90448c0-d9ce-4a71-aa76-159a0172600a",
   "metadata": {},
   "outputs": [
    {
     "name": "stdout",
     "output_type": "stream",
     "text": [
      "1 2 8\n"
     ]
    }
   ],
   "source": [
    "func(1, 2)"
   ]
  },
  {
   "cell_type": "markdown",
   "id": "38c10a7c-35dd-4f28-be1a-fd37938df85d",
   "metadata": {},
   "source": [
    "b is already assigned and when an argument is passed it will be overwritten. So b will be 2. "
   ]
  },
  {
   "cell_type": "markdown",
   "id": "f0cfdf38-04a1-435e-8c5c-ab19388ee1b1",
   "metadata": {},
   "source": [
    "#### 2. What is the result of this code, and why?\n",
    "&gt;&gt;&gt; def func(a, b, c=5):\n",
    "print(a, b, c)\n",
    "&gt;&gt;&gt; func(1, c=3, b=2)"
   ]
  },
  {
   "cell_type": "code",
   "execution_count": 8,
   "id": "8e061760-d8cc-414e-9c36-8726a2597a6b",
   "metadata": {},
   "outputs": [],
   "source": [
    "def func(a, b, c=5):\n",
    "    print(a, b, c)"
   ]
  },
  {
   "cell_type": "code",
   "execution_count": 9,
   "id": "96a2e00c-ee2b-4c52-9df2-f1a4d3af15d3",
   "metadata": {},
   "outputs": [
    {
     "name": "stdout",
     "output_type": "stream",
     "text": [
      "1 2 3\n"
     ]
    }
   ],
   "source": [
    "func(1, c=3, b=2)"
   ]
  },
  {
   "cell_type": "markdown",
   "id": "ae5d1a22-af6f-4d9d-b1ae-8d6b7eb337f3",
   "metadata": {},
   "source": [
    "As keyword arguments are passed after the first argument the values can be correctly mapped to the variables."
   ]
  },
  {
   "cell_type": "markdown",
   "id": "3686b751-68cf-47d7-9b9d-61a578288eb4",
   "metadata": {},
   "source": [
    "#### 3. How about this code: what is its result, and why?\n",
    "&gt;&gt;&gt; def func(a, *pargs):\n",
    "print(a, pargs)\n",
    "&gt;&gt;&gt; func(1, 2, 3)"
   ]
  },
  {
   "cell_type": "code",
   "execution_count": 12,
   "id": "e77af426-ace4-4d83-b16a-b6cf6a0b27e2",
   "metadata": {},
   "outputs": [],
   "source": [
    "def func(a, *pargs):\n",
    "    print(a, pargs)"
   ]
  },
  {
   "cell_type": "code",
   "execution_count": 13,
   "id": "a8f9eed8-50d9-4e87-ba85-0eac12af839c",
   "metadata": {},
   "outputs": [
    {
     "name": "stdout",
     "output_type": "stream",
     "text": [
      "1 (2, 3)\n"
     ]
    }
   ],
   "source": [
    "func(1, 2, 3)"
   ]
  },
  {
   "cell_type": "markdown",
   "id": "520a4bed-eb49-4306-b934-c135c6a198ed",
   "metadata": {},
   "source": [
    "2,3 will be printed in a tuple as pargs will be taken as a tuple. This is helpful when "
   ]
  },
  {
   "cell_type": "markdown",
   "id": "819c488f-184e-4e78-85c9-5838eb02737a",
   "metadata": {},
   "source": [
    "#### 4. What does this code print, and why?\n",
    "&gt;&gt;&gt; def func(a, **kargs):\n",
    "print(a, kargs)\n",
    "&gt;&gt;&gt; func(a=1, c=3, b=2)"
   ]
  },
  {
   "cell_type": "code",
   "execution_count": 14,
   "id": "74345ff3-bee9-424a-823a-b639b888e2ce",
   "metadata": {},
   "outputs": [],
   "source": [
    "def func(a, **kargs):\n",
    "    print(a, kargs)"
   ]
  },
  {
   "cell_type": "code",
   "execution_count": 15,
   "id": "9611e386-3ab4-4728-89c4-0eb1c4aa987a",
   "metadata": {},
   "outputs": [
    {
     "name": "stdout",
     "output_type": "stream",
     "text": [
      "1 {'c': 3, 'b': 2}\n"
     ]
    }
   ],
   "source": [
    "func(a=1, c=3, b=2)"
   ]
  },
  {
   "cell_type": "markdown",
   "id": "ba00a596-0e9b-4fa9-ab50-ca897c00b815",
   "metadata": {},
   "source": [
    "Keyword arguments are stored in a dictionary as tuple cannot handle both keys and values. SO firstly a is taken as 1 and it can be passed to the function without the key also. All other keys and values passed to the function are stored in a dictionary as keyword arguments are set while defining the function."
   ]
  },
  {
   "cell_type": "markdown",
   "id": "f6b45fb9-fd84-4649-ab60-bde23190033a",
   "metadata": {},
   "source": [
    "#### 5. What gets printed by this, and explain?\n",
    "&gt;&gt;&gt; def func(a, b, c=8, d=5): print(a, b, c, d)\n",
    "&gt;&gt;&gt; func(1, *(5, 6))"
   ]
  },
  {
   "cell_type": "code",
   "execution_count": 16,
   "id": "9cb2bea3-ee56-4d21-979a-8d1c395b965e",
   "metadata": {},
   "outputs": [],
   "source": [
    "def func(a, b, c=8, d=5): \n",
    "    print(a, b, c, d)"
   ]
  },
  {
   "cell_type": "code",
   "execution_count": 20,
   "id": "6eee845e-76c4-40fb-ab94-a30b4561cb66",
   "metadata": {},
   "outputs": [
    {
     "name": "stdout",
     "output_type": "stream",
     "text": [
      "1 5 6 5\n"
     ]
    }
   ],
   "source": [
    "func(1, *(5, 6))"
   ]
  },
  {
   "cell_type": "markdown",
   "id": "c59a9558-da36-455b-964f-f87710e10026",
   "metadata": {},
   "source": [
    "In the function as 1 is there at the start it will be assigned to the first parameter a. Then the tuple values are assigned to the next 2 parameters of the function as the length of the tuple is 2. Finally as there is no other argument for d, it will be having its default value 5."
   ]
  },
  {
   "cell_type": "markdown",
   "id": "28492e9a-f1c1-45d7-ac49-a9c9532ae14b",
   "metadata": {},
   "source": [
    "#### 6. what is the result of this, and explain?\n",
    "&gt;&gt;&gt; def func(a, b, c): a = 2; b[0] = &#39;x&#39;; c[&#39;a&#39;] = &#39;y&#39;\n",
    "&gt;&gt;&gt; l=1; m=[1]; n={&#39;a&#39;:0}\n",
    "&gt;&gt;&gt; func(l, m, n)\n",
    "\n",
    "&gt;&gt;&gt; l, m, n"
   ]
  },
  {
   "cell_type": "code",
   "execution_count": 26,
   "id": "9864291f-ea15-4705-9a32-b57de6ec66d7",
   "metadata": {},
   "outputs": [],
   "source": [
    "def func(a, b, c): \n",
    "    a = 2; b[0] = 'x'; c['a'] = 'y'\n",
    "\n",
    "l=1; m=[1]; n={'a':0}\n",
    "func(l, m, n)"
   ]
  },
  {
   "cell_type": "code",
   "execution_count": 27,
   "id": "5a868d3e-76e1-457e-b0fc-5be9f64e385c",
   "metadata": {},
   "outputs": [
    {
     "data": {
      "text/plain": [
       "(1, ['x'], {'a': 'y'})"
      ]
     },
     "execution_count": 27,
     "metadata": {},
     "output_type": "execute_result"
    }
   ],
   "source": [
    "l, m, n"
   ]
  },
  {
   "cell_type": "markdown",
   "id": "d67eca8a-3106-4a3f-bf50-6b73d9da76c4",
   "metadata": {},
   "source": [
    "Lists and dictionaries are getting changed in the same address to we can see that the values inside function getting updated for the values previously present."
   ]
  }
 ],
 "metadata": {
  "kernelspec": {
   "display_name": "Python 3 (ipykernel)",
   "language": "python",
   "name": "python3"
  },
  "language_info": {
   "codemirror_mode": {
    "name": "ipython",
    "version": 3
   },
   "file_extension": ".py",
   "mimetype": "text/x-python",
   "name": "python",
   "nbconvert_exporter": "python",
   "pygments_lexer": "ipython3",
   "version": "3.10.6"
  }
 },
 "nbformat": 4,
 "nbformat_minor": 5
}
