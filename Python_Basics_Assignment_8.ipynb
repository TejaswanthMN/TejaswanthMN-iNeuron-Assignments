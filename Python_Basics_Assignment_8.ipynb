{
 "cells": [
  {
   "cell_type": "markdown",
   "id": "a64b2483-1934-4c3b-8f6c-3468090e285f",
   "metadata": {},
   "source": [
    "### Python_Basics_Assignment_8"
   ]
  },
  {
   "cell_type": "markdown",
   "id": "b4c6bb78-833b-494e-9e97-ab62bdbcadd5",
   "metadata": {},
   "source": [
    "#### 1. Is the Python Standard Library included with PyInputPlus?"
   ]
  },
  {
   "cell_type": "markdown",
   "id": "6a93928d-7e25-43be-b234-51a526cdc51f",
   "metadata": {},
   "source": [
    "No. As the PyInputPlus is a third-party module it doesn't come with the Python Standard Library."
   ]
  },
  {
   "cell_type": "markdown",
   "id": "2dbc0f5b-d59d-4b30-b201-4ad56c6d7d07",
   "metadata": {},
   "source": [
    "#### 2. Why is PyInputPlus commonly imported with import pyinputplus as pypi?"
   ]
  },
  {
   "cell_type": "markdown",
   "id": "acefaa1b-5ca1-43f1-b6fe-052a203d8315",
   "metadata": {},
   "source": [
    "This is a alias name we give so not to type full name everytime we use."
   ]
  },
  {
   "cell_type": "markdown",
   "id": "4d5d7d25-d52e-4caa-9950-d61700f1dde0",
   "metadata": {},
   "source": [
    "#### 3. How do you distinguish between inputInt() and inputFloat()?"
   ]
  },
  {
   "cell_type": "markdown",
   "id": "b6418379-c9f8-4d82-a85e-7ca3f5aea6be",
   "metadata": {},
   "source": [
    "The inputInt() function returns an int value, while the inputFloat() function returns a float value. "
   ]
  },
  {
   "cell_type": "markdown",
   "id": "c84891f1-c324-4bfd-993d-b4ba6a70533c",
   "metadata": {},
   "source": [
    "#### 4. Using PyInputPlus, how do you ensure that the user enters a whole number between 0 and 99?"
   ]
  },
  {
   "cell_type": "markdown",
   "id": "8a35da14-724a-4282-8b22-74b44e494458",
   "metadata": {},
   "source": [
    "By using pyip.inputint(min=0, max=99)"
   ]
  },
  {
   "cell_type": "markdown",
   "id": "1a0ae7ad-ed1a-4929-ad9b-5b5583415e78",
   "metadata": {},
   "source": [
    "#### 5. What is transferred to the keyword arguments allowRegexes and blockRegexes?"
   ]
  },
  {
   "cell_type": "markdown",
   "id": "de423f86-0c17-439f-8443-70b119956513",
   "metadata": {},
   "source": [
    "A list of regex strings that are either explicitly allowed or denied are transferred to the keyword arguments allowRegexes and blockRegexes."
   ]
  },
  {
   "cell_type": "markdown",
   "id": "ad401785-3b11-491b-a903-116cbdd4d909",
   "metadata": {},
   "source": [
    "#### 6. If a blank input is entered three times, what does inputStr(limit=3) do?"
   ]
  },
  {
   "cell_type": "markdown",
   "id": "80755e7f-a318-4b17-8c25-b063dc0002eb",
   "metadata": {},
   "source": [
    "It will raise RetryLimitException."
   ]
  },
  {
   "cell_type": "markdown",
   "id": "9aeea34c-b078-4481-86b2-b1a5f35cb623",
   "metadata": {},
   "source": [
    "#### 7. If blank input is entered three times, what does inputStr(limit=3, default=&#39;hello&#39;) do?"
   ]
  },
  {
   "cell_type": "markdown",
   "id": "e47d7223-646b-4cea-aab6-e94389e29ea2",
   "metadata": {},
   "source": [
    "Returns value 'hello'"
   ]
  }
 ],
 "metadata": {
  "kernelspec": {
   "display_name": "Python 3 (ipykernel)",
   "language": "python",
   "name": "python3"
  },
  "language_info": {
   "codemirror_mode": {
    "name": "ipython",
    "version": 3
   },
   "file_extension": ".py",
   "mimetype": "text/x-python",
   "name": "python",
   "nbconvert_exporter": "python",
   "pygments_lexer": "ipython3",
   "version": "3.10.6"
  }
 },
 "nbformat": 4,
 "nbformat_minor": 5
}
