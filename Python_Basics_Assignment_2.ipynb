{
 "cells": [
  {
   "cell_type": "markdown",
   "id": "993d4478-5706-47d0-811d-140509136d01",
   "metadata": {},
   "source": [
    "### Python_Basics_Assignment_2"
   ]
  },
  {
   "cell_type": "markdown",
   "id": "628ae560-824d-4805-a1b9-c7b7e9af7db6",
   "metadata": {},
   "source": [
    "##### 1.What are the two values of the Boolean data type? How do you write them?"
   ]
  },
  {
   "cell_type": "markdown",
   "id": "16043e7e-2a82-4678-b7b8-8255baf1c161",
   "metadata": {},
   "source": [
    "True and False are the two values of the Boolean data type. We can write those without quotes and in title case."
   ]
  },
  {
   "cell_type": "markdown",
   "id": "af73a96c-0a7e-461b-979f-969d5bdb63bc",
   "metadata": {},
   "source": [
    "##### 2. What are the three different types of Boolean operators?"
   ]
  },
  {
   "cell_type": "markdown",
   "id": "9224a5e6-e510-403d-af76-4ab3287551f0",
   "metadata": {},
   "source": [
    "Three different types of Boolean operators are 'and', 'or' and 'not'"
   ]
  },
  {
   "cell_type": "markdown",
   "id": "7cc2a1b9-c518-426f-9fd9-97aae11971f7",
   "metadata": {},
   "source": [
    "##### 3. Make a list of each Boolean operator's truth tables (i.e. every possible combination of Boolean values for the operator and what it evaluate)."
   ]
  },
  {
   "cell_type": "markdown",
   "id": "8acd7e86-18f4-4ecc-861c-8fd2ec6d2251",
   "metadata": {},
   "source": [
    "True and True = True\n",
    "<br>True and False = False\n",
    "<br>False and True = False\n",
    "<br>False and False = False\n",
    "<br>True or True = True\n",
    "<br>False or False = False\n",
    "<br>True or False = True\n",
    "<br>False or True = True\n",
    "<br>Not True = False\n",
    "<br>Not False = True"
   ]
  },
  {
   "cell_type": "markdown",
   "id": "99975f76-5994-4154-a9f5-33cc10244707",
   "metadata": {},
   "source": [
    "##### 4. What are the values of the following expressions?\n",
    "(5 > 4) and (3 == 5)\n",
    "<br>not (5 > 4)\n",
    "<br>(5 > 4) or (3 == 5)\n",
    "<br>not ((5 > 4) or (3 == 5))\n",
    "<br>(True and True) and (True == False)\n",
    "<br>(not False) or (not True)"
   ]
  },
  {
   "cell_type": "markdown",
   "id": "211cf654-557e-4caa-8ad5-5cdf8481c666",
   "metadata": {},
   "source": [
    "False\n",
    "<br>False\n",
    "<br>True\n",
    "<br>False\n",
    "<br>False\n",
    "<br>True"
   ]
  },
  {
   "cell_type": "markdown",
   "id": "31f0959c-43dd-40aa-a079-ee60bf5fe930",
   "metadata": {},
   "source": [
    "##### 5. What are the six comparison operators?"
   ]
  },
  {
   "cell_type": "markdown",
   "id": "f0a852f2-0f44-4245-8bda-04575cfb9ee5",
   "metadata": {},
   "source": [
    "<br><\n",
    "<br>>\n",
    "<br>==\n",
    "<br><=\n",
    "<br>>=\n",
    "<br>!="
   ]
  },
  {
   "cell_type": "markdown",
   "id": "fe8aa96b-d5ac-482b-9b25-1baa93966817",
   "metadata": {},
   "source": [
    "##### 6. How do you tell the difference between the equal to and assignment operators? Describe a condition and when you would use one."
   ]
  },
  {
   "cell_type": "markdown",
   "id": "d2a92ce1-66e1-479b-9075-8844074b9719",
   "metadata": {},
   "source": [
    "\"=\" is used for assignment. For example if we have to assign a value 100 to an variable a we can use `a=100` but to check the equality of the variables or values we can use \"==\" so if we have to check if a is equal to 100 we can use `a==100`. Assignment operations does not return anything but the equality checking will return an boolean value."
   ]
  },
  {
   "cell_type": "markdown",
   "id": "da0e0194-57fd-4f60-8d0e-b32c972309ab",
   "metadata": {},
   "source": [
    "##### 7. Identify the three blocks in this code:\n",
    "spam = 0\n",
    "<br>if spam == 10:\n",
    "<br>print('eggs')\n",
    "<br>if spam > 5:\n",
    "<br>print('bacon')\n",
    "<br>else:\n",
    "<br>print('ham')\n",
    "<br>print('spam')\n",
    "<br>print('spam')"
   ]
  },
  {
   "cell_type": "markdown",
   "id": "f784884b-944a-4526-a01d-c9547d94f5d9",
   "metadata": {},
   "source": [
    "If there is an elif in the program then the three blocks in the code will be \"if\", \"elif\" and \"else\". But if there should not be any elif then the 3 blocks in the code can be 2 \"if\" blocks and one \"else\" block."
   ]
  },
  {
   "cell_type": "markdown",
   "id": "7c4fa374-1dc4-4bc9-b119-9d112e3a2ff9",
   "metadata": {},
   "source": [
    "##### 8. Write code that prints Hello if 1 is stored in spam, prints Howdy if 2 is stored in spam, and prints Greetings! if anything else is stored in spam."
   ]
  },
  {
   "cell_type": "code",
   "execution_count": 5,
   "id": "338b5232-7ff6-44a3-87c4-08a6459ca335",
   "metadata": {},
   "outputs": [
    {
     "name": "stdin",
     "output_type": "stream",
     "text": [
      " l\n"
     ]
    },
    {
     "name": "stdout",
     "output_type": "stream",
     "text": [
      "Greetings\n"
     ]
    }
   ],
   "source": [
    "spam = input()\n",
    "if spam == \"1\":\n",
    "    print(\"Hello\")\n",
    "elif spam == \"2\":\n",
    "    print(\"Howdy\")\n",
    "else:\n",
    "    print(\"Greetings\")"
   ]
  },
  {
   "cell_type": "markdown",
   "id": "515d5e36-51ab-41cf-9b14-c8cfffc8335c",
   "metadata": {},
   "source": [
    "##### 9.If your programme is stuck in an endless loop, what keys you’ll press?"
   ]
  },
  {
   "cell_type": "markdown",
   "id": "786b0e5c-c077-4688-a85c-86dbb94e1ac5",
   "metadata": {},
   "source": [
    "\"Ctrl+C\" can be pressed to stop the program. Or Kernel can be interrupted by pressing \"i\" twice or kernel can be shut down and started again after modifying the program."
   ]
  },
  {
   "cell_type": "markdown",
   "id": "eea364f7-1800-4ec8-9671-960ecfaf25b0",
   "metadata": {},
   "source": [
    "##### 10. How can you tell the difference between break and continue?"
   ]
  },
  {
   "cell_type": "markdown",
   "id": "472d8f4f-de51-4f50-9d47-3cfc46424d90",
   "metadata": {},
   "source": [
    "break will stop the loop and comes out of the loop. continue will skip the current iteration and go back to the start of the loop for the next iteration."
   ]
  },
  {
   "cell_type": "markdown",
   "id": "7b373c5c-f6c5-4b59-8f67-0ed6119081d6",
   "metadata": {},
   "source": [
    "##### 11. In a for loop, what is the difference between range(10), range(0, 10), and range(0, 10, 1)?"
   ]
  },
  {
   "cell_type": "markdown",
   "id": "54715fec-e4f3-4186-9f52-56a4f47382fa",
   "metadata": {},
   "source": [
    "All the three do the same. There is difference in syntax alono, no difference in the functionality. In `range(10)` starting is not specified and the step number is not specified. So starting will get defaulted to 0 and step value will be defaulted to 1. In `range(0,10)` starting is specifed and step number is not specified. So the step number will be defaulted to 1. Finally in `range(0,10,1)` start value and step number is specified."
   ]
  },
  {
   "cell_type": "markdown",
   "id": "233b5f35-8e4c-4637-a2ef-1e7b8a36a6d6",
   "metadata": {},
   "source": [
    "##### 12. Write a short program that prints the numbers 1 to 10 using a for loop. Then write an equivalent program that prints the numbers 1 to 10 using a while loop."
   ]
  },
  {
   "cell_type": "code",
   "execution_count": 2,
   "id": "726c1903-29e5-44dd-8c19-a3a45a1939de",
   "metadata": {},
   "outputs": [
    {
     "name": "stdout",
     "output_type": "stream",
     "text": [
      "for loop\n",
      "1\n",
      "2\n",
      "3\n",
      "4\n",
      "5\n",
      "6\n",
      "7\n",
      "8\n",
      "9\n",
      "10\n",
      "while loop\n",
      "1\n",
      "2\n",
      "3\n",
      "4\n",
      "5\n",
      "6\n",
      "7\n",
      "8\n",
      "9\n",
      "10\n"
     ]
    }
   ],
   "source": [
    "print(\"for loop\")\n",
    "for i in range(1,11):\n",
    "    print(i)\n",
    "    \n",
    "print(\"while loop\")\n",
    "j = 1\n",
    "while j<=10:\n",
    "    print(j)\n",
    "    j=j+1"
   ]
  },
  {
   "cell_type": "markdown",
   "id": "f1aa557b-e51d-4023-a415-744736cd13ed",
   "metadata": {},
   "source": [
    "##### 13. If you had a function named bacon() inside a module named spam, how would you call it after importing spam?"
   ]
  },
  {
   "cell_type": "markdown",
   "id": "334d9fe7-090d-4dbe-9593-88bc88aa4b42",
   "metadata": {},
   "source": [
    "`spam.bacon()` when `import spam` is used. `bacon()` when `from spam import bacon`"
   ]
  }
 ],
 "metadata": {
  "kernelspec": {
   "display_name": "Python 3 (ipykernel)",
   "language": "python",
   "name": "python3"
  },
  "language_info": {
   "codemirror_mode": {
    "name": "ipython",
    "version": 3
   },
   "file_extension": ".py",
   "mimetype": "text/x-python",
   "name": "python",
   "nbconvert_exporter": "python",
   "pygments_lexer": "ipython3",
   "version": "3.10.6"
  }
 },
 "nbformat": 4,
 "nbformat_minor": 5
}
