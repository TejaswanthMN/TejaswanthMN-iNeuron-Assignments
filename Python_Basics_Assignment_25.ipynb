{
 "cells": [
  {
   "cell_type": "markdown",
   "id": "916ff59d-535e-4517-b249-534c5bf33c73",
   "metadata": {},
   "source": [
    "### Python_Basics_Assignment_25"
   ]
  },
  {
   "cell_type": "markdown",
   "id": "75062745-f491-4668-888b-84ff95081240",
   "metadata": {},
   "source": [
    "#### 1) What is the difference between enclosing a list comprehension in square brackets and parentheses?"
   ]
  },
  {
   "cell_type": "markdown",
   "id": "301926e3-23df-4a2f-b069-423c4ba30ea0",
   "metadata": {},
   "source": [
    "A generator is defined using parentheses, while list comprehensions are defined using square brackets."
   ]
  },
  {
   "cell_type": "markdown",
   "id": "e3cba938-26d5-415a-816b-349538cff15a",
   "metadata": {},
   "source": [
    "#### 2) What is the relationship between generators and iterators?"
   ]
  },
  {
   "cell_type": "markdown",
   "id": "350aa90b-4f16-4e6a-b4ac-a31e4b940152",
   "metadata": {},
   "source": [
    "Iterators are the objects that use the next() method to get the next value of the sequence. A generator is a function that produces or yields a sequence of values using a yield statement.\n",
    "\n",
    "Classes are used to Implement the iterators. Functions are used to implement the generator.\n",
    "\n",
    "An iterator is an object which contains a countable number of values and it is used to iterate over iterable objects like list, tuples, sets, etc. Iterators are implemented using a class and a local variable for iterating is not required here, It follows lazy evaluation where the evaluation of the expression will be on hold and stored in the memory until the item is called specifically which helps us to avoid repeated evaluation. As lazy evaluation is implemented, it requires only 1 memory location to process the value and when we are using a large dataset then, wastage of RAM space will be reduced the need to load the entire dataset at the same time will not be there.\n",
    "\n",
    "Generators are implemented using a function. Just as iterators, generators also follow lazy evaluation. Here, the yield function returns the data without affecting or exiting the function. It will return a sequence of data in an iterable format where we need to iterate over the sequence to use the data as they won’t store the entire sequence in the memory."
   ]
  },
  {
   "cell_type": "markdown",
   "id": "aff997bf-ea7c-4c20-9c70-3e4f0294e1ef",
   "metadata": {},
   "source": [
    "#### 3) What are the signs that a function is a generator function?"
   ]
  },
  {
   "cell_type": "markdown",
   "id": "4fcadb19-f4e5-4a5c-9d23-49f1ab49c0b0",
   "metadata": {},
   "source": [
    "A generator function is a function with one or more yield statements in it. Unlike regular functions, generator functions return generator objects."
   ]
  },
  {
   "cell_type": "markdown",
   "id": "3ca5e002-6935-41b4-8f1b-be3d2a544982",
   "metadata": {},
   "source": [
    "#### 4) What is the purpose of a yield statement?"
   ]
  },
  {
   "cell_type": "markdown",
   "id": "30d322b7-a931-47d5-bba4-e12489c12db7",
   "metadata": {},
   "source": [
    "The yield keyword in Python controls the flow of a generator function. This is similar to a return statement used for returning values in Python.The yield keyword will convert an expression that is specified along with it to a generator iterator, and return it to the caller."
   ]
  },
  {
   "cell_type": "markdown",
   "id": "8e93bc4b-8170-492d-8ce4-266790d22be2",
   "metadata": {},
   "source": [
    "#### 5) What is the relationship between map calls and list comprehensions? Make a comparison and contrast between the two."
   ]
  },
  {
   "cell_type": "markdown",
   "id": "a8285cd7-7e44-45c6-ad09-430eb7763efc",
   "metadata": {},
   "source": [
    "List comprehension returns a list, whereas the map function returns an object of Iterable. List comprehension execution is faster than that of map function when the formula expression is huge and complex. Map function is faster than list comprehension when the formula is already defined as a function earlier. List comprehension has a simpler configuration than the map function. List comprehension can be used together with if condition as replacement of filter method. Map function has no such functionality. However, we can feed the map function output to the filter function.  "
   ]
  }
 ],
 "metadata": {
  "kernelspec": {
   "display_name": "Python 3 (ipykernel)",
   "language": "python",
   "name": "python3"
  },
  "language_info": {
   "codemirror_mode": {
    "name": "ipython",
    "version": 3
   },
   "file_extension": ".py",
   "mimetype": "text/x-python",
   "name": "python",
   "nbconvert_exporter": "python",
   "pygments_lexer": "ipython3",
   "version": "3.10.6"
  }
 },
 "nbformat": 4,
 "nbformat_minor": 5
}
