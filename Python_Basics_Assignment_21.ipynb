{
 "cells": [
  {
   "cell_type": "markdown",
   "id": "d54836a1-2cd4-4feb-96b0-4ee6c2af1eef",
   "metadata": {},
   "source": [
    "### Python_Basics_Assignment_21"
   ]
  },
  {
   "cell_type": "markdown",
   "id": "1a9e745c-19e6-4bab-8213-a4016034b358",
   "metadata": {},
   "source": [
    "#### 1. Add the current date to the text file today.txt as a string."
   ]
  },
  {
   "cell_type": "code",
   "execution_count": 1,
   "id": "1b05c69c-4a7d-46d7-8016-12a153a5c127",
   "metadata": {},
   "outputs": [],
   "source": [
    "from datetime import date\n",
    "cd = str(date.today())\n",
    "with open(\"today.txt\", \"w\") as file1:\n",
    "    file1.write(cd)"
   ]
  },
  {
   "cell_type": "markdown",
   "id": "699e5a8e-5b7f-486e-b568-6501592b129c",
   "metadata": {},
   "source": [
    "#### 2. Read the text file today.txt into the string today_string"
   ]
  },
  {
   "cell_type": "code",
   "execution_count": 2,
   "id": "ac5eeea5-3d43-4e79-bc7b-ef781cec6148",
   "metadata": {},
   "outputs": [
    {
     "data": {
      "text/plain": [
       "'2023-06-13'"
      ]
     },
     "execution_count": 2,
     "metadata": {},
     "output_type": "execute_result"
    }
   ],
   "source": [
    "with open(\"today.txt\", \"r+\") as file1:\n",
    "    today_string = file1.read()\n",
    "\n",
    "today_string    "
   ]
  },
  {
   "cell_type": "markdown",
   "id": "553071b8-c4ce-4289-9a83-b9eecff95ff0",
   "metadata": {},
   "source": [
    "#### 3. Parse the date from today_string."
   ]
  },
  {
   "cell_type": "code",
   "execution_count": 3,
   "id": "9bb851cc-1e5d-4cd4-85d1-401bbce9a32f",
   "metadata": {},
   "outputs": [
    {
     "data": {
      "text/plain": [
       "datetime.datetime(2023, 6, 13, 0, 0)"
      ]
     },
     "execution_count": 3,
     "metadata": {},
     "output_type": "execute_result"
    }
   ],
   "source": [
    "import datetime\n",
    "format = '%Y-%m-%d'\n",
    "datetime_str = datetime.datetime.strptime(today_string, format)\n",
    "datetime_str"
   ]
  },
  {
   "cell_type": "markdown",
   "id": "cd52e851-875e-4800-9352-1ea43dddaa8e",
   "metadata": {},
   "source": [
    "#### 4. List the files in your current directory"
   ]
  },
  {
   "cell_type": "code",
   "execution_count": 4,
   "id": "e9c31b17-2582-4237-b855-40539af85093",
   "metadata": {},
   "outputs": [
    {
     "data": {
      "text/plain": [
       "['Python_Basics_Assignment_17.ipynb',\n",
       " 'README.md',\n",
       " 'Python_Programming_Assignment_5.ipynb',\n",
       " 'Analysis.ipynb',\n",
       " 'Python_Basics_Assignment_13.ipynb',\n",
       " 'test.txt',\n",
       " 'Python_Basics_Assignment_9.ipynb',\n",
       " 'Untitled Folder',\n",
       " 'sample-code.ipynb',\n",
       " 'zoo.py',\n",
       " 'Python_Basics_Assignment_4.ipynb',\n",
       " 'Python_Basics_Assignment_3.ipynb',\n",
       " 'Python_Programming_Assignment_3.ipynb',\n",
       " 'M3W1- PE_LR and EDA_Withsolution.ipynb',\n",
       " 'Python_Basics_Assignment_15.ipynb',\n",
       " 'Python_Basics_Assignment_2.ipynb',\n",
       " '.git',\n",
       " 'Untitled5.ipynb',\n",
       " 'Python_Basics_Assignment_6.ipynb',\n",
       " 'books.db-journal',\n",
       " 'Python_Basics_Assignment_21.ipynb',\n",
       " 'Python_Basics_Assignment_1.ipynb',\n",
       " 'Untitled7.ipynb',\n",
       " 'Python_Basics_Assignment_18.ipynb',\n",
       " 'M3W2- PE_LR and EDA_Questions.ipynb',\n",
       " 'Untitled3.ipynb',\n",
       " 'C1_W3_Lab06_Gradient_Descent_Soln.ipynb',\n",
       " 'C2_W2_Relu.ipynb',\n",
       " 'Untitled1.ipynb',\n",
       " 'Python_Basics_Assignment_19.ipynb',\n",
       " 'Python_Basics_Assignment_14.ipynb',\n",
       " 'Python_Programming_Assignment_4.ipynb',\n",
       " 'Untitled4.ipynb',\n",
       " '__pycache__',\n",
       " 'books.db',\n",
       " 'Python_Basics_Assignment_10.ipynb',\n",
       " 'Python_Basics_Assignment_16.ipynb',\n",
       " 'Untitled.ipynb',\n",
       " '.ipynb_checkpoints',\n",
       " 'Python_Basics_Assignment_5.ipynb',\n",
       " 'today.txt',\n",
       " 'Python_Basics_Assignment_20.ipynb',\n",
       " '4838_3020aa70-69a5-420f-8ae1-bc77fb0b7f0e_cf_sub_test.ipynb',\n",
       " 'Python_Basics_Assignment_7.ipynb',\n",
       " 'Python_Basics_Assignment_8.ipynb',\n",
       " 'IP Adress, shutdown, .ipynb',\n",
       " 'Python_Programming_Assignment_1.ipynb',\n",
       " 'Stats.ipynb',\n",
       " 'books.csv',\n",
       " 'Untitled2.ipynb',\n",
       " 'Python_Programming_Assignment_2.ipynb']"
      ]
     },
     "execution_count": 4,
     "metadata": {},
     "output_type": "execute_result"
    }
   ],
   "source": [
    "import os\n",
    "os.listdir('.')"
   ]
  },
  {
   "cell_type": "markdown",
   "id": "ffbe502c-5f1e-410c-b5b2-70797be33e5a",
   "metadata": {},
   "source": [
    "#### 5. Create a list of all of the files in your parent directory (minimum five files should be available)."
   ]
  },
  {
   "cell_type": "code",
   "execution_count": 5,
   "id": "6ccfcd96-d5f6-4eed-90cd-8cb844e291a5",
   "metadata": {},
   "outputs": [
    {
     "data": {
      "text/plain": [
       "['.profile',\n",
       " '.bash_logout',\n",
       " '.bashrc',\n",
       " '.ipython',\n",
       " '.cache',\n",
       " '.jupyter',\n",
       " '.local',\n",
       " '.conda',\n",
       " '.config',\n",
       " '.npm',\n",
       " '.wget-hsts',\n",
       " 'work']"
      ]
     },
     "execution_count": 5,
     "metadata": {},
     "output_type": "execute_result"
    }
   ],
   "source": [
    "os.listdir('..')"
   ]
  },
  {
   "cell_type": "markdown",
   "id": "da5f5410-263d-4ab0-9ef5-17cc86f3438d",
   "metadata": {},
   "source": [
    "#### 6. Use multiprocessing to create three separate processes. Make each one wait a random number of seconds between one and five, print the current time, and then exit."
   ]
  },
  {
   "cell_type": "code",
   "execution_count": 6,
   "id": "2db94c8b-422e-4ecb-9aa7-092b7dd1e09e",
   "metadata": {},
   "outputs": [
    {
     "name": "stdout",
     "output_type": "stream",
     "text": [
      "2023-06-13 11:51:36.441714\n",
      "2023-06-13 11:51:36.4369692023-06-13 11:51:36.461620\n",
      "\n"
     ]
    }
   ],
   "source": [
    "import multiprocessing\n",
    "import numpy as np\n",
    "import time\n",
    "\n",
    "def current_time():\n",
    "\tprint(datetime.datetime.now())\n",
    "    \n",
    "p1 = multiprocessing.Process(target=current_time)\n",
    "p2 = multiprocessing.Process(target=current_time)\n",
    "p3 = multiprocessing.Process(target=current_time)\n",
    "p1.start()\n",
    "p2.start()\n",
    "p3.start()\n",
    "\n",
    "p1.join()\n",
    "time.sleep(np.random.randint(1,5))\n",
    "p2.join()\n",
    "time.sleep(np.random.randint(1,5))\n",
    "p3.join()"
   ]
  },
  {
   "cell_type": "markdown",
   "id": "18902eac-865f-44e0-8529-11092b9dfbb3",
   "metadata": {},
   "source": [
    "#### 7. Create a date object of your day of birth."
   ]
  },
  {
   "cell_type": "code",
   "execution_count": 7,
   "id": "b81a1c4f-c08a-4a46-85d4-47700ffd2316",
   "metadata": {},
   "outputs": [
    {
     "data": {
      "text/plain": [
       "datetime.date(2000, 1, 29)"
      ]
     },
     "execution_count": 7,
     "metadata": {},
     "output_type": "execute_result"
    }
   ],
   "source": [
    "it_all_started_on = date(2000,1,29)\n",
    "it_all_started_on"
   ]
  },
  {
   "cell_type": "markdown",
   "id": "e06dcd52-546c-4f81-8d47-74303d74e43d",
   "metadata": {},
   "source": [
    "#### 8. What day of the week was your day of birth?"
   ]
  },
  {
   "cell_type": "code",
   "execution_count": 8,
   "id": "e005466d-13a2-46c7-bab6-45d87512529e",
   "metadata": {},
   "outputs": [
    {
     "data": {
      "text/plain": [
       "5"
      ]
     },
     "execution_count": 8,
     "metadata": {},
     "output_type": "execute_result"
    }
   ],
   "source": [
    "it_all_started_on.weekday() "
   ]
  },
  {
   "cell_type": "markdown",
   "id": "bd7463e0-d632-4c04-a73e-f37b0f24bc9f",
   "metadata": {},
   "source": [
    "5 represents Saturday"
   ]
  },
  {
   "cell_type": "markdown",
   "id": "3e1ca71c-c3f3-431b-a543-93ebb9b78303",
   "metadata": {},
   "source": [
    "#### 9. When will you be (or when were you) 10,000 days old?"
   ]
  },
  {
   "cell_type": "code",
   "execution_count": 9,
   "id": "7134b901-27e2-411a-8e1b-0e366e0897ba",
   "metadata": {},
   "outputs": [
    {
     "data": {
      "text/plain": [
       "datetime.date(2027, 6, 16)"
      ]
     },
     "execution_count": 9,
     "metadata": {},
     "output_type": "execute_result"
    }
   ],
   "source": [
    "from datetime import timedelta\n",
    "age_10000_days = it_all_started_on + timedelta(days=10000)\n",
    "age_10000_days"
   ]
  }
 ],
 "metadata": {
  "kernelspec": {
   "display_name": "Python 3 (ipykernel)",
   "language": "python",
   "name": "python3"
  },
  "language_info": {
   "codemirror_mode": {
    "name": "ipython",
    "version": 3
   },
   "file_extension": ".py",
   "mimetype": "text/x-python",
   "name": "python",
   "nbconvert_exporter": "python",
   "pygments_lexer": "ipython3",
   "version": "3.10.6"
  }
 },
 "nbformat": 4,
 "nbformat_minor": 5
}
