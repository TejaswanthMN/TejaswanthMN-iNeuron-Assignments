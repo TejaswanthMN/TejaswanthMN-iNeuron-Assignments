{
 "cells": [
  {
   "cell_type": "markdown",
   "id": "d3c9acf8-857d-4d86-87ea-ed6d1ee69c83",
   "metadata": {},
   "source": [
    "### Python_Basics_Assignment_20"
   ]
  },
  {
   "cell_type": "markdown",
   "id": "0d84075a-6a74-4076-8ad4-7d701e288fb0",
   "metadata": {},
   "source": [
    "#### 1. Set the variable test1 to the string &#39;This is a test of the emergency text system,&#39; and save test1 to a file named test.txt."
   ]
  },
  {
   "cell_type": "code",
   "execution_count": 1,
   "id": "e4acf674-5237-49f4-8076-8b1c1bf440bb",
   "metadata": {},
   "outputs": [],
   "source": [
    "test1 = 'This is a test of the emergency text system,'"
   ]
  },
  {
   "cell_type": "code",
   "execution_count": 2,
   "id": "727c9e8b-0c4d-4c07-87e4-cc768182ac90",
   "metadata": {},
   "outputs": [
    {
     "data": {
      "text/plain": [
       "<function TextIOWrapper.close()>"
      ]
     },
     "execution_count": 2,
     "metadata": {},
     "output_type": "execute_result"
    }
   ],
   "source": [
    "with open('test.txt', 'wt') as file:\n",
    "    file.write(test1)\n",
    "    \n",
    "file.close"
   ]
  },
  {
   "cell_type": "markdown",
   "id": "0fd88c55-abe5-4850-95e8-d290e33803ba",
   "metadata": {},
   "source": [
    "#### 2. Read the contents of the file test.txt into the variable test2. Is there a difference between test 1 and test 2?"
   ]
  },
  {
   "cell_type": "code",
   "execution_count": 3,
   "id": "42cc16c4-82b5-4c7d-aa7d-4b30bde89a17",
   "metadata": {},
   "outputs": [],
   "source": [
    "with open('test.txt', 'rt') as file:\n",
    "    test2 = file.read()"
   ]
  },
  {
   "cell_type": "code",
   "execution_count": 4,
   "id": "aef9fbed-2cd6-4ce5-b841-323e703a53cd",
   "metadata": {},
   "outputs": [
    {
     "data": {
      "text/plain": [
       "True"
      ]
     },
     "execution_count": 4,
     "metadata": {},
     "output_type": "execute_result"
    }
   ],
   "source": [
    "test2 == test1"
   ]
  },
  {
   "cell_type": "markdown",
   "id": "51305628-df79-4059-a052-0c59ecb7ff50",
   "metadata": {},
   "source": [
    "There is no difference between test1 and test2."
   ]
  },
  {
   "cell_type": "markdown",
   "id": "a0970c58-73c8-4051-8f28-c53cc9e00dac",
   "metadata": {},
   "source": [
    "#### 3. Create a CSV file called books.csv by using these lines:\n",
    "title,author,year\n",
    "\n",
    "The Weirdstone of Brisingamen,Alan Garner,1960\n",
    "\n",
    "Perdido Street Station,China Miéville,2000\n",
    "\n",
    "Thud!,Terry Pratchett,2005\n",
    "\n",
    "The Spellman Files,Lisa Lutz,2007\n",
    "\n",
    "Small Gods,Terry Pratchett,1992"
   ]
  },
  {
   "cell_type": "code",
   "execution_count": 5,
   "id": "adbf71b4-dcd2-481a-9c54-6b83423b65af",
   "metadata": {},
   "outputs": [],
   "source": [
    "text = '''title,author,year\n",
    "The Weirdstone of Brisingamen,Alan Garner,1960\n",
    "Perdido Street Station,China Miéville,2000\n",
    "Thud!,Terry Pratchett,2005\n",
    "The Spellman Files,Lisa Lutz,2007\n",
    "Small Gods,Terry Pratchett,1992\n",
    "'''\n",
    "with open('books.csv', 'wt') as file:\n",
    "    file.write(text)"
   ]
  },
  {
   "cell_type": "markdown",
   "id": "f514a90e-8b26-4dad-9445-ba3cf5343a0b",
   "metadata": {},
   "source": [
    "#### 4. Use the sqlite3 module to create a SQLite database called books.db, and a table called books with these fields: title (text), author (text), and year (integer)."
   ]
  },
  {
   "cell_type": "code",
   "execution_count": 6,
   "id": "cf276e8d-f60b-4c9e-9e79-3757fb1f3fb5",
   "metadata": {},
   "outputs": [
    {
     "ename": "OperationalError",
     "evalue": "table book already exists",
     "output_type": "error",
     "traceback": [
      "\u001b[0;31m---------------------------------------------------------------------------\u001b[0m",
      "\u001b[0;31mOperationalError\u001b[0m                          Traceback (most recent call last)",
      "Cell \u001b[0;32mIn [6], line 4\u001b[0m\n\u001b[1;32m      2\u001b[0m database \u001b[38;5;241m=\u001b[39m sqlite3\u001b[38;5;241m.\u001b[39mconnect(\u001b[38;5;124m'\u001b[39m\u001b[38;5;124mbooks.db\u001b[39m\u001b[38;5;124m'\u001b[39m)\n\u001b[1;32m      3\u001b[0m cursor \u001b[38;5;241m=\u001b[39m database\u001b[38;5;241m.\u001b[39mcursor()\n\u001b[0;32m----> 4\u001b[0m \u001b[43mcursor\u001b[49m\u001b[38;5;241;43m.\u001b[39;49m\u001b[43mexecute\u001b[49m\u001b[43m(\u001b[49m\u001b[38;5;124;43m'''\u001b[39;49m\u001b[38;5;124;43mcreate table book (title text, author text, year int)\u001b[39;49m\u001b[38;5;124;43m'''\u001b[39;49m\u001b[43m)\u001b[49m\n",
      "\u001b[0;31mOperationalError\u001b[0m: table book already exists"
     ]
    }
   ],
   "source": [
    "import sqlite3\n",
    "database = sqlite3.connect('books.db')\n",
    "cursor = database.cursor()\n",
    "cursor.execute('''create table book (title text, author text, year int)''')"
   ]
  },
  {
   "cell_type": "markdown",
   "id": "33b0bc6a-47a6-4e8a-9f21-478850b908ff",
   "metadata": {},
   "source": [
    "#### 5. Read books.csv and insert its data into the book table."
   ]
  },
  {
   "cell_type": "code",
   "execution_count": 7,
   "id": "ec5b05d2-949d-4a95-be88-029a35abad1a",
   "metadata": {},
   "outputs": [],
   "source": [
    "import sqlite3\n",
    "import csv\n",
    "\n",
    "i = 'insert into book values(?, ?, ?)'\n",
    "with open('books.csv', 'rt') as file:\n",
    "    b = csv.DictReader(file)\n",
    "    for j in b:\n",
    "        cursor.execute(i, (j['title'], j['author'], j['year']))"
   ]
  },
  {
   "cell_type": "markdown",
   "id": "4eac15e5-fd07-432f-8cca-5e755277318c",
   "metadata": {},
   "source": [
    "#### 6. Select and print the title column from the book table in alphabetical order."
   ]
  },
  {
   "cell_type": "code",
   "execution_count": 8,
   "id": "5ef86794-d21c-425f-8247-fe1d2afe5ab5",
   "metadata": {},
   "outputs": [
    {
     "name": "stdout",
     "output_type": "stream",
     "text": [
      "('Perdido Street Station',)\n",
      "('Small Gods',)\n",
      "('The Spellman Files',)\n",
      "('The Weirdstone of Brisingamen',)\n",
      "('Thud!',)\n"
     ]
    }
   ],
   "source": [
    "sql = 'select title from book order by title asc'\n",
    "for row in database.execute(sql):\n",
    "    print(row)"
   ]
  },
  {
   "cell_type": "markdown",
   "id": "e4e6e60c-ee6a-44ea-9393-21e25cbbe1f7",
   "metadata": {},
   "source": [
    "#### 7. From the book table, select and print all columns in the order of publication."
   ]
  },
  {
   "cell_type": "code",
   "execution_count": 9,
   "id": "c11ef66d-ffc1-43fc-ab77-30c7c814ce7d",
   "metadata": {},
   "outputs": [
    {
     "name": "stdout",
     "output_type": "stream",
     "text": [
      "('The Weirdstone of Brisingamen', 'Alan Garner', 1960)\n",
      "('Small Gods', 'Terry Pratchett', 1992)\n",
      "('Perdido Street Station', 'China Miéville', 2000)\n",
      "('Thud!', 'Terry Pratchett', 2005)\n",
      "('The Spellman Files', 'Lisa Lutz', 2007)\n"
     ]
    }
   ],
   "source": [
    "for i in database.execute('select * from book order by year'):\n",
    "    print(i)"
   ]
  },
  {
   "cell_type": "markdown",
   "id": "bc11502f-76d2-4cbb-8eb8-ea0538e62aa2",
   "metadata": {},
   "source": [
    "#### 8. Use the sqlalchemy module to connect to the sqlite3 database books.db that you just made in exercise 6."
   ]
  },
  {
   "cell_type": "code",
   "execution_count": 10,
   "id": "02392d23-bdc6-4760-86ef-bc6d60c9e69e",
   "metadata": {},
   "outputs": [],
   "source": [
    "import sqlalchemy\n",
    "connection = sqlalchemy.create_engine('sqlite:///books.db')\n",
    "sql = 'select title from book order by title'\n",
    "rows = connection.execute(sql)"
   ]
  },
  {
   "cell_type": "markdown",
   "id": "cb4f9f90-12fd-4849-933f-edee3bfcb8f0",
   "metadata": {},
   "source": [
    "#### 9. Install the Redis server and the Python redis library (pip install redis) on your computer. Create a Redis hash called test with the fields count (1) and name (&#39;Fester Bestertester&#39;). Print all the fields for test."
   ]
  },
  {
   "cell_type": "code",
   "execution_count": 11,
   "id": "76b928b4-addd-4e27-9288-7e77f8cf6ef9",
   "metadata": {},
   "outputs": [
    {
     "name": "stdout",
     "output_type": "stream",
     "text": [
      "Requirement already satisfied: redis in /opt/conda/lib/python3.10/site-packages (4.5.5)\n",
      "Requirement already satisfied: async-timeout>=4.0.2 in /opt/conda/lib/python3.10/site-packages (from redis) (4.0.2)\n",
      "Note: you may need to restart the kernel to use updated packages.\n"
     ]
    }
   ],
   "source": [
    "pip install redis"
   ]
  },
  {
   "cell_type": "raw",
   "id": "9b6bd8dc-eaca-476b-a5d2-e9ed7ccbfabd",
   "metadata": {},
   "source": [
    "import redis\n",
    "client = redis.Redis()\n",
    "client.hmset('test', {'count': 1, 'name': 'Fester Bestertester'})"
   ]
  },
  {
   "cell_type": "raw",
   "id": "e090105f-79ea-4538-a8ce-53b9a764b653",
   "metadata": {},
   "source": [
    "client.hgetall(\"test\")"
   ]
  },
  {
   "cell_type": "markdown",
   "id": "862917b1-e3f2-4188-8baf-6071292f97ca",
   "metadata": {},
   "source": [
    "#### 10. Increment the count field of test and print it."
   ]
  },
  {
   "cell_type": "raw",
   "id": "9e45e693-2885-403b-adad-51f7d743063f",
   "metadata": {},
   "source": [
    "import redis\n",
    "client = redis.Redis()\n",
    "count = client.hget(\"test\",\"count\")\n",
    "\n",
    "if count is None:\n",
    "    count = 0\n",
    "    \n",
    "count+=1\n",
    "client.hset(\"test\",\"count\",count)\n",
    "print(count)"
   ]
  }
 ],
 "metadata": {
  "kernelspec": {
   "display_name": "Python 3 (ipykernel)",
   "language": "python",
   "name": "python3"
  },
  "language_info": {
   "codemirror_mode": {
    "name": "ipython",
    "version": 3
   },
   "file_extension": ".py",
   "mimetype": "text/x-python",
   "name": "python",
   "nbconvert_exporter": "python",
   "pygments_lexer": "ipython3",
   "version": "3.10.6"
  }
 },
 "nbformat": 4,
 "nbformat_minor": 5
}
