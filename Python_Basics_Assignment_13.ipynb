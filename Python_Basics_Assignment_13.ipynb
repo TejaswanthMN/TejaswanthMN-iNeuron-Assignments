{
 "cells": [
  {
   "cell_type": "markdown",
   "id": "cd7a7934-819b-4eb7-bae7-f679014ae737",
   "metadata": {},
   "source": [
    "### Python_Basics_Assignment_13"
   ]
  },
  {
   "cell_type": "markdown",
   "id": "06452499-4782-4da7-a3e6-12212603daec",
   "metadata": {},
   "source": [
    "#### 1. What advantages do Excel spreadsheets have over CSV spreadsheets?"
   ]
  },
  {
   "cell_type": "markdown",
   "id": "681a11ed-986c-4c84-b390-81c9dc0c5ccc",
   "metadata": {},
   "source": [
    "Excel can perform VBA Coding, functions, formulas, and create summaries easily when compared to CSV. Reading large data sets is much easier for the end-user to read, comprehend and understand when compared to CSV. "
   ]
  },
  {
   "cell_type": "markdown",
   "id": "adf63cb9-818d-4265-b73c-f80ff2770026",
   "metadata": {},
   "source": [
    "#### 2.What do you pass to csv.reader() and csv.writer() to create reader and writer objects?"
   ]
  },
  {
   "cell_type": "markdown",
   "id": "23085ff6-b6d5-4e1e-a6a1-e49f0ff1b23a",
   "metadata": {},
   "source": [
    "File object obtained from a call to open() is passed to csv.reader() and csv.writer() to create reader and writer objects."
   ]
  },
  {
   "cell_type": "markdown",
   "id": "1ad311d3-538b-4448-a21e-16eb297213f7",
   "metadata": {},
   "source": [
    "#### 3. What modes do File objects for reader and writer objects need to be opened in?"
   ]
  },
  {
   "cell_type": "markdown",
   "id": "b1bd1f73-59f1-42ec-92fe-22f62b73f43b",
   "metadata": {},
   "source": [
    "File objects need to be opened in read-binary ('rb') for Reader objects and write-binary ('wb') for Writer objects."
   ]
  },
  {
   "cell_type": "markdown",
   "id": "c00b8a37-5fd1-49ae-bdba-179d59fed624",
   "metadata": {},
   "source": [
    "#### 4. What method takes a list argument and writes it to a CSV file?"
   ]
  },
  {
   "cell_type": "markdown",
   "id": "a6ff1730-3258-4088-97e3-0bcf3600019f",
   "metadata": {},
   "source": [
    "writerow() method takes a list argument and writes it to a CSV file."
   ]
  },
  {
   "cell_type": "markdown",
   "id": "985bc431-858e-47ee-8303-b38fd041c253",
   "metadata": {},
   "source": [
    "#### 5. What do the keyword arguments delimiter and line terminator do?"
   ]
  },
  {
   "cell_type": "markdown",
   "id": "fa155092-e3ba-41f0-8c88-9cdb6e6360ab",
   "metadata": {},
   "source": [
    "The delimiter argument changes the string used to separate cells in a row. The lineterminator argument changes the string used to separate rows."
   ]
  },
  {
   "cell_type": "markdown",
   "id": "ccafe482-f56a-429f-bfb4-5dd85b7bd0a9",
   "metadata": {},
   "source": [
    "#### 6. What function takes a string of JSON data and returns a Python data structure?"
   ]
  },
  {
   "cell_type": "markdown",
   "id": "dcbffe2b-86eb-47d6-b145-60b5ba5e8a7c",
   "metadata": {},
   "source": [
    "json.loads()"
   ]
  },
  {
   "cell_type": "markdown",
   "id": "59d3d399-a325-418d-a223-2352e0a60fdf",
   "metadata": {},
   "source": [
    "#### 7. What function takes a Python data structure and returns a string of JSON data?"
   ]
  },
  {
   "cell_type": "markdown",
   "id": "72833e80-6208-4239-83ea-962117dc047b",
   "metadata": {},
   "source": []
  }
 ],
 "metadata": {
  "kernelspec": {
   "display_name": "Python 3 (ipykernel)",
   "language": "python",
   "name": "python3"
  },
  "language_info": {
   "codemirror_mode": {
    "name": "ipython",
    "version": 3
   },
   "file_extension": ".py",
   "mimetype": "text/x-python",
   "name": "python",
   "nbconvert_exporter": "python",
   "pygments_lexer": "ipython3",
   "version": "3.10.6"
  }
 },
 "nbformat": 4,
 "nbformat_minor": 5
}
