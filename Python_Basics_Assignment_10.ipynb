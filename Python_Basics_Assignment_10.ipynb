{
 "cells": [
  {
   "cell_type": "markdown",
   "id": "0a5e9e08-ee23-4157-b59e-5a955591a1fe",
   "metadata": {},
   "source": [
    "### Python_Basics_Assignment_10"
   ]
  },
  {
   "cell_type": "markdown",
   "id": "5f58eed3-c3ca-413a-8424-150c41480ef9",
   "metadata": {},
   "source": [
    "#### 1. How do you distinguish between shutil.copy() and shutil.copytree()?"
   ]
  },
  {
   "cell_type": "markdown",
   "id": "0d5008b2-a25d-49b8-a38d-5d117dd55990",
   "metadata": {},
   "source": [
    "The shutil.copy() function copies one single file. shutil.copytree() will copy an entire folder."
   ]
  },
  {
   "cell_type": "markdown",
   "id": "25869905-f976-4ead-a00b-0c1670295a40",
   "metadata": {},
   "source": [
    "#### 2. What function is used to rename files??"
   ]
  },
  {
   "cell_type": "markdown",
   "id": "056c0a8c-adba-4583-8940-c91911d01795",
   "metadata": {},
   "source": [
    "shutil.move() function is used to rename files."
   ]
  },
  {
   "cell_type": "markdown",
   "id": "91e8c910-edbd-4639-9390-b4adf87b093c",
   "metadata": {},
   "source": [
    "#### 3. What is the difference between the delete functions in the send2trash and shutil modules?"
   ]
  },
  {
   "cell_type": "markdown",
   "id": "094b5b2e-3276-4e1d-a24e-5773dbc75160",
   "metadata": {},
   "source": [
    "The send2trash functions will move a file or folder to the recycle bin. shutil functions will permanently delete files and folders."
   ]
  },
  {
   "cell_type": "markdown",
   "id": "87f90093-927d-441f-9c32-a97340d83dde",
   "metadata": {},
   "source": [
    "#### 4.ZipFile objects have a close() method just like File objects’ close() method. What ZipFile method is equivalent to File objects’ open() method?"
   ]
  },
  {
   "cell_type": "markdown",
   "id": "285ca317-33e9-4348-827a-d05a7065b67a",
   "metadata": {},
   "source": [
    "The zipfile.ZipFile() function is equivalent to the open() function; the first argument is the filename, and the second argument is the mode to open the ZIP file in (read, write, or append)."
   ]
  },
  {
   "cell_type": "markdown",
   "id": "10c7533e-0e08-4c9a-ad9f-2fa6d11b35c0",
   "metadata": {},
   "source": [
    "#### 5. Create a programme that searches a folder tree for files with a certain file extension (such as .pdf or .jpg). Copy these files from whatever location they are in to a new folder."
   ]
  },
  {
   "cell_type": "code",
   "execution_count": 1,
   "id": "181a4786-292a-4134-8c46-30db9b8b00e5",
   "metadata": {},
   "outputs": [],
   "source": [
    "def f(folder):\n",
    "    for folderName, subfolders, filenames in os.walk(folder):\n",
    "        for filename in filenames:\n",
    "            if filename.endswith('.jpg'):\n",
    "                shutil.copy(os.path.join(folderName, filename), '<destination>')"
   ]
  }
 ],
 "metadata": {
  "kernelspec": {
   "display_name": "Python 3 (ipykernel)",
   "language": "python",
   "name": "python3"
  },
  "language_info": {
   "codemirror_mode": {
    "name": "ipython",
    "version": 3
   },
   "file_extension": ".py",
   "mimetype": "text/x-python",
   "name": "python",
   "nbconvert_exporter": "python",
   "pygments_lexer": "ipython3",
   "version": "3.10.6"
  }
 },
 "nbformat": 4,
 "nbformat_minor": 5
}
