{
 "cells": [
  {
   "cell_type": "markdown",
   "id": "17734923-d19d-40e6-ae2c-33f5ff3a73ac",
   "metadata": {},
   "source": [
    "### Python_Basics_Assignment_9"
   ]
  },
  {
   "cell_type": "markdown",
   "id": "8e51cc5b-611d-4aaa-86fa-2bce595c5cd4",
   "metadata": {},
   "source": [
    "#### 1. To what does a relative path refer?"
   ]
  },
  {
   "cell_type": "markdown",
   "id": "031547c5-81f8-4294-b101-60bbcafbe050",
   "metadata": {},
   "source": [
    "A relative path is a path to a file or directory that is relative to the current directory. It specifies the location of the file or directory in relation to the current directory. "
   ]
  },
  {
   "cell_type": "markdown",
   "id": "f210c849-5c08-405d-acf9-b9f8afda7cd3",
   "metadata": {},
   "source": [
    "#### 2. What does an absolute path start with your operating system?"
   ]
  },
  {
   "cell_type": "markdown",
   "id": "e646d7e3-0863-42cc-a0e0-da801d1d5ea6",
   "metadata": {},
   "source": [
    "My operating system is Windows and absolute path starts with drive letter e.g., \"C:\""
   ]
  },
  {
   "cell_type": "markdown",
   "id": "5906b54b-d5ed-436f-9984-7223518397de",
   "metadata": {},
   "source": [
    "#### 3. What do the functions os.getcwd() and os.chdir() do?"
   ]
  },
  {
   "cell_type": "markdown",
   "id": "f3cdf9df-31f0-486f-8c01-af596fecefe8",
   "metadata": {},
   "source": [
    "The os.getcwd() function returns the current working directory. The os.chdir() function changes the current working directory."
   ]
  },
  {
   "cell_type": "markdown",
   "id": "66f109d3-8835-4f03-b016-642fd162af31",
   "metadata": {},
   "source": [
    "#### 4. What are the . and .. folders?"
   ]
  },
  {
   "cell_type": "markdown",
   "id": "5d176301-7ebd-48d8-97fc-a16f19d5883e",
   "metadata": {},
   "source": [
    "The . is the current directory, while .. signifies the parent directory. "
   ]
  },
  {
   "cell_type": "markdown",
   "id": "97627238-37fa-4d70-93b3-8848ce1db77f",
   "metadata": {},
   "source": [
    "#### 5. In C:\\bacon\\eggs\\spam.txt, which part is the dir name, and which part is the base name?"
   ]
  },
  {
   "cell_type": "markdown",
   "id": "105de09f-c907-45ed-aa8c-6fc0f5f6e7ca",
   "metadata": {},
   "source": [
    "C:\\bacon\\eggs is the dir name,  spam.txt is the base name."
   ]
  },
  {
   "cell_type": "markdown",
   "id": "84eb4f19-01f9-4339-9c71-3bdec1d9779c",
   "metadata": {},
   "source": [
    "#### 6. What are the three “mode” arguments that can be passed to the open() function?"
   ]
  },
  {
   "cell_type": "markdown",
   "id": "9feaf031-6ff8-40e6-a3b9-3225f825f067",
   "metadata": {},
   "source": [
    "The string 'r' for read mode, 'w' for write mode, and 'a' for append mode are the three \"mode\" aruments that can be passes to the open() function."
   ]
  },
  {
   "cell_type": "markdown",
   "id": "fc028200-6492-4e07-b318-e95b10766b07",
   "metadata": {},
   "source": [
    "#### 7. What happens if an existing file is opened in write mode?"
   ]
  },
  {
   "cell_type": "markdown",
   "id": "520446b7-615c-4798-8982-2e9365e8f0f9",
   "metadata": {},
   "source": [
    "When an existing file is opened in write mode it will be erased and completely overwritten."
   ]
  },
  {
   "cell_type": "markdown",
   "id": "69efff30-6464-4055-b87f-b8c97d24c22f",
   "metadata": {},
   "source": [
    "#### 8. How do you tell the difference between read() and readlines()?"
   ]
  },
  {
   "cell_type": "markdown",
   "id": "dbabacfa-f787-4bd5-872f-ef6cec27b61a",
   "metadata": {},
   "source": [
    "The read() method returns the file's entire contents as a single string value. The readlines() method returns a list of strings, where each string is a line from the file's contents."
   ]
  },
  {
   "cell_type": "markdown",
   "id": "ce262fd7-dc9a-463f-835b-e18b7aff8eb0",
   "metadata": {},
   "source": [
    "#### 9. What data structure does a shelf value resemble?"
   ]
  },
  {
   "cell_type": "markdown",
   "id": "502310f9-c2ca-42e2-9882-262fef2ecec9",
   "metadata": {},
   "source": [
    "Shelf value resembles a dictionary value."
   ]
  }
 ],
 "metadata": {
  "kernelspec": {
   "display_name": "Python 3 (ipykernel)",
   "language": "python",
   "name": "python3"
  },
  "language_info": {
   "codemirror_mode": {
    "name": "ipython",
    "version": 3
   },
   "file_extension": ".py",
   "mimetype": "text/x-python",
   "name": "python",
   "nbconvert_exporter": "python",
   "pygments_lexer": "ipython3",
   "version": "3.10.6"
  }
 },
 "nbformat": 4,
 "nbformat_minor": 5
}
