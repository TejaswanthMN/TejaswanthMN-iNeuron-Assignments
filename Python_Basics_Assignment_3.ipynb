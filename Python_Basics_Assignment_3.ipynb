{
 "cells": [
  {
   "cell_type": "markdown",
   "id": "f0c28294-d289-4cdb-b0dd-86f84ac9c6ce",
   "metadata": {},
   "source": [
    "#### Python_Basics_Assignment_3"
   ]
  },
  {
   "cell_type": "markdown",
   "id": "aec18941-3419-422a-a3d1-cbe9af7d32a9",
   "metadata": {},
   "source": [
    "1. Why are functions advantageous to have in your programs?"
   ]
  },
  {
   "cell_type": "markdown",
   "id": "384b5157-218d-45e3-9700-f7eea3c9252c",
   "metadata": {},
   "source": [
    "Functions increase reusability of code. The same code can be reutilizied multiple times using functions. Also using functions code can be seperated in parts so it will be easy to read, understand and debug easily."
   ]
  },
  {
   "cell_type": "markdown",
   "id": "a8b377e0-a913-433b-9236-fb23f2209e0a",
   "metadata": {},
   "source": [
    "2. When does the code in a function run: when it's specified or when it's called?"
   ]
  },
  {
   "cell_type": "markdown",
   "id": "405db7d8-9e65-47a6-b175-1fbb154a90aa",
   "metadata": {},
   "source": [
    "Code in function run when it is called"
   ]
  },
  {
   "cell_type": "markdown",
   "id": "aefd634e-584d-4d39-9107-c8a5a8e3631e",
   "metadata": {},
   "source": [
    "3. What statement creates a function?"
   ]
  },
  {
   "cell_type": "markdown",
   "id": "38a784e3-d460-4ebd-b9e5-a823ffd2bb1a",
   "metadata": {},
   "source": [
    "`def` statement creates a function"
   ]
  },
  {
   "cell_type": "markdown",
   "id": "aad35dc4-3c20-430c-b521-fecd8650e493",
   "metadata": {},
   "source": [
    "4. What is the difference between a function and a function call?"
   ]
  },
  {
   "cell_type": "markdown",
   "id": "56901b53-31f7-4530-b864-f312cc34103a",
   "metadata": {},
   "source": [
    "Function is lines of code starting with def keyword. Function call interprets the function and returns the result."
   ]
  },
  {
   "cell_type": "markdown",
   "id": "166aa46e-9ed9-44a8-98e2-1f5d95a3fa0d",
   "metadata": {},
   "source": [
    "5. How many global scopes are there in a Python program? How many local scopes?"
   ]
  },
  {
   "cell_type": "markdown",
   "id": "fe6d9134-4928-4a52-9807-7b4adda4f737",
   "metadata": {},
   "source": [
    "There is one global scope and one local scope that creates when the function is called."
   ]
  },
  {
   "cell_type": "markdown",
   "id": "dd6e703b-9e24-4460-b775-87069c99dad6",
   "metadata": {},
   "source": [
    "6. What happens to variables in a local scope when the function call returns?"
   ]
  },
  {
   "cell_type": "markdown",
   "id": "c1a08b8a-f712-4256-a587-66299e9bf1da",
   "metadata": {},
   "source": [
    "When a function call returns all the variables in local scope gets deleted."
   ]
  },
  {
   "cell_type": "markdown",
   "id": "44c76592-2340-485c-b9eb-05eef6b0ea84",
   "metadata": {},
   "source": [
    "7. What is the concept of a return value? Is it possible to have a return value in an expression?"
   ]
  },
  {
   "cell_type": "markdown",
   "id": "6b823b18-4a86-48c2-95c9-a59643be5773",
   "metadata": {},
   "source": [
    "The value that is returned after the evaluation of the function is the return value. This can be assinged to a variable and can be used as many times we want. It is possible to have a return value in an expression."
   ]
  },
  {
   "cell_type": "markdown",
   "id": "d2fe5fb1-7d26-47aa-89a6-8e4b4959e34e",
   "metadata": {},
   "source": [
    "8. If a function does not have a return statement, what is the return value of a call to that function?"
   ]
  },
  {
   "cell_type": "markdown",
   "id": "050b6a8c-a843-4bf6-80f0-0dda0b5b69f7",
   "metadata": {},
   "source": [
    "If the function does not have a return statement then the return value of a call to that function is `None`"
   ]
  },
  {
   "cell_type": "markdown",
   "id": "aac5da37-f694-4331-8481-536f8e86bb70",
   "metadata": {},
   "source": [
    "9. How do you make a function variable refer to the global variable?"
   ]
  },
  {
   "cell_type": "markdown",
   "id": "d470cb82-7867-46ed-aafe-3596e260103a",
   "metadata": {},
   "source": [
    "`global` statement can make a function variable refer to the global variable."
   ]
  },
  {
   "cell_type": "markdown",
   "id": "ce1e8922-27c0-40ca-b5f8-2232dc16f3ff",
   "metadata": {},
   "source": [
    "10. What is the data type of None?"
   ]
  },
  {
   "cell_type": "markdown",
   "id": "1ac742df-1a0e-443f-88c4-9e32ba48bc75",
   "metadata": {},
   "source": [
    "The data type of None is NoneType"
   ]
  },
  {
   "cell_type": "markdown",
   "id": "9f308fd0-ec23-4d3d-8521-4efcca65642c",
   "metadata": {},
   "source": [
    "11. What does the sentence import areallyourpetsnamederic do?"
   ]
  },
  {
   "cell_type": "markdown",
   "id": "ac482bca-40b3-4fb7-9d48-2a5928744af1",
   "metadata": {},
   "source": [
    "This sentence imports the module named \"areallyourpetsnamederic\""
   ]
  },
  {
   "cell_type": "markdown",
   "id": "ae4f388f-9f4a-4030-821b-8b8c0c000b34",
   "metadata": {},
   "source": [
    "12. If you had a bacon() feature in a spam module, what would you call it after importing spam?"
   ]
  },
  {
   "cell_type": "markdown",
   "id": "bf65663c-f721-4e7f-909d-5bbadcaf2f46",
   "metadata": {},
   "source": [
    "`spam.bacon()` when `import spam` is used. `bacon()` when `from spam import bacon`"
   ]
  },
  {
   "cell_type": "markdown",
   "id": "1c4791ec-9502-4617-986e-bccf9ae423e7",
   "metadata": {},
   "source": [
    "13. What can you do to save a programme from crashing if it encounters an error?"
   ]
  },
  {
   "cell_type": "markdown",
   "id": "638a8765-1d92-4667-886d-1ad106938608",
   "metadata": {},
   "source": [
    "When we keep the program in try block, we can save a programme from crashing if it encounters an error."
   ]
  },
  {
   "cell_type": "markdown",
   "id": "39a3c4ec-a0a2-4743-b2e0-fbabcf4f06d6",
   "metadata": {},
   "source": [
    "14. What is the purpose of the try clause? What is the purpose of the except clause?"
   ]
  },
  {
   "cell_type": "markdown",
   "id": "742c8c16-4f33-4f10-bfea-c595c13b4bef",
   "metadata": {},
   "source": [
    "The block that can cause error can be kept in try clause to save a programme from crashing. When the program encounters an error then except block gets executed."
   ]
  }
 ],
 "metadata": {
  "kernelspec": {
   "display_name": "Python 3 (ipykernel)",
   "language": "python",
   "name": "python3"
  },
  "language_info": {
   "codemirror_mode": {
    "name": "ipython",
    "version": 3
   },
   "file_extension": ".py",
   "mimetype": "text/x-python",
   "name": "python",
   "nbconvert_exporter": "python",
   "pygments_lexer": "ipython3",
   "version": "3.10.6"
  }
 },
 "nbformat": 4,
 "nbformat_minor": 5
}
