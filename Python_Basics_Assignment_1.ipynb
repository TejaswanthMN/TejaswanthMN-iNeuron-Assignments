{
 "cells": [
  {
   "cell_type": "markdown",
   "id": "4fe04b69-db67-4fc5-9560-7a0a21d88095",
   "metadata": {},
   "source": [
    "### Python_Basics_Assignment_1"
   ]
  },
  {
   "cell_type": "markdown",
   "id": "ad82e3fa-fa3f-48b7-896d-51eff80d96d6",
   "metadata": {},
   "source": [
    "##### 1. In the below elements which of them are values or an expression? eg:- values can be integer or string and expressions will be mathematical operators.\n",
    "<br>* \n",
    "<br>'hello'\n",
    "<br>-87.8\n",
    "<br>-\n",
    "<br>/ \n",
    "<br>+\n",
    "<br>6"
   ]
  },
  {
   "cell_type": "markdown",
   "id": "99606529-eb9e-40f8-bd70-9980b0547ad1",
   "metadata": {},
   "source": [
    "Values are 'hello', -87.8, 6\n",
    "<br> Expressions are * - / +"
   ]
  },
  {
   "cell_type": "markdown",
   "id": "7b6a1662-31cf-48a9-a4d5-b3bfc64c0726",
   "metadata": {},
   "source": [
    "##### 2. What is the difference between string and variable?"
   ]
  },
  {
   "cell_type": "markdown",
   "id": "1835b6bc-522e-4872-87fd-820dd215cb06",
   "metadata": {},
   "source": [
    "String: String is a data type and is an array of unicode characters. Strings are genrerally enclosed in quotes.\n",
    "<br>eg: \"Hello\", \"World\" \n",
    "<br>Variable: Variable is a container that stores any kind of datatype. There are few conventions to be followed while keeping the names of the variables. \n",
    "<br>eg: st = \"iNeuron\", num = 5, b = True, fl = 6.89\n",
    "<br>all these st, num, b and fl are data types"
   ]
  },
  {
   "cell_type": "markdown",
   "id": "78f10ae1-9075-445f-b757-7237bcbc540b",
   "metadata": {},
   "source": [
    "##### 3. Describe three different data types."
   ]
  },
  {
   "cell_type": "markdown",
   "id": "356bdfc4-1229-4e17-bee9-ab9469ee1b73",
   "metadata": {
    "tags": []
   },
   "source": [
    "int - Stores integer(numerical) values without decimal point \n",
    "<br>eg: 1,2,3\n",
    "<br>float - Stores integer(numerical) values with decimal point\n",
    "<br>eg: 8.6, 9.67\n",
    "<br>string - String is a data type and is an array of unicode characters. Strings are genrerally enclosed in quotes.\n",
    "<br>eg: \"Hello\", \"World\" \n",
    "<br>bool - Stores boolean values (True or False)"
   ]
  },
  {
   "cell_type": "markdown",
   "id": "458de0b1-ecf0-49c7-b4da-aa4e24572083",
   "metadata": {},
   "source": [
    "##### 4. What is an expression made up of? What do all expressions do?"
   ]
  },
  {
   "cell_type": "markdown",
   "id": "4d87ceb5-a407-44a6-8b5f-bac5eb00c655",
   "metadata": {},
   "source": [
    "An expression is a combination of operators, operands and those are interpreted to produce some values."
   ]
  },
  {
   "cell_type": "markdown",
   "id": "4c9827af-2f75-4689-9e18-4b08fa54aed7",
   "metadata": {},
   "source": [
    "##### 5. This assignment statements, like spam = 10. What is the difference between an expression and a statement?"
   ]
  },
  {
   "cell_type": "markdown",
   "id": "4815cefd-bce0-45fe-92f8-f0b2f6760f78",
   "metadata": {},
   "source": [
    "A statement in Python is not evaluated for some results. An expression in Python is evaluated for some results."
   ]
  },
  {
   "cell_type": "markdown",
   "id": "3272dc52-4ca7-45f2-a709-5bcd9fc6096e",
   "metadata": {},
   "source": [
    "##### 6. After running the following code, what does the variable bacon contain?\n",
    "`bacon = 22`<br>\n",
    "`bacon + 1`"
   ]
  },
  {
   "cell_type": "markdown",
   "id": "3b19a7fa-d06d-4830-b129-447c44f2c10f",
   "metadata": {},
   "source": [
    "After running this code, bacon will contain 22. As in the second line of the code, bacon is added with 1 but not assigned ot back to bacon. So bacon will be containing value 22"
   ]
  },
  {
   "cell_type": "markdown",
   "id": "6c4272f9-bb1c-4715-ba97-ff46c671dac4",
   "metadata": {},
   "source": [
    "##### 7. What should the values of the following two terms be?\n",
    "`'spam' + 'spamspam'` <br>\n",
    "`'spam' * 3`"
   ]
  },
  {
   "cell_type": "markdown",
   "id": "47c5157f-9b00-4352-abde-9e335d45b6b4",
   "metadata": {},
   "source": [
    "The output of the above 2 terms will be \"spamspamspam\""
   ]
  },
  {
   "cell_type": "markdown",
   "id": "90f70b15-3c08-4044-b12f-a6c9cc1500f4",
   "metadata": {},
   "source": [
    "##### 8. Why is eggs a valid variable name while 100 is invalid?"
   ]
  },
  {
   "cell_type": "markdown",
   "id": "eea229b8-b6c7-4e5d-8b6f-b440cbb7ea3b",
   "metadata": {},
   "source": [
    "While naming a varibale there are few conventions to be followed and one of that convention is that the variable name should not start with a number. So 8. Why eggs is a valid variable name while 100 is invalid. Also to think in another way, 100 is a value and other values cannot be assigned to 100 if it is taken as a variable(which python wont allow) but as eggs is a name other values can be assigned to it. "
   ]
  },
  {
   "cell_type": "markdown",
   "id": "f915828d-806f-4919-9a5a-2868f96934f7",
   "metadata": {},
   "source": [
    "##### 9. What three functions can be used to get the integer, floating-point number, or string version of a value?"
   ]
  },
  {
   "cell_type": "markdown",
   "id": "cabd7c32-6f37-4df0-a56a-cd5561a6223c",
   "metadata": {},
   "source": [
    "int() can be used to get the integer version of a value\n",
    "<br>float() can be used to get the floating-point number version of a value\n",
    "<br>str() can be used to get the string version of a value"
   ]
  },
  {
   "cell_type": "markdown",
   "id": "22ed1531-42a8-489b-934b-75f011aea368",
   "metadata": {},
   "source": [
    "##### 10. Why does this expression cause an error? How can you fix it?\n",
    "`I have eaten ' + 99 + ' burritos.'`"
   ]
  },
  {
   "cell_type": "markdown",
   "id": "befaad15-db1b-4eb5-92d6-5e5c98da872c",
   "metadata": {},
   "source": [
    "When we run 'I have eaten ' + 99 + ' burritos.' it will throw an Type error where an integer 99 cannot be added or concatenated to a string. So to make it run we can type cast 99 to string as follows\n",
    "`I have eaten ' + str(99) + ' burritos.'`\n",
    "and this gives the output 'I have eaten 99 burritos.'"
   ]
  }
 ],
 "metadata": {
  "kernelspec": {
   "display_name": "Python 3 (ipykernel)",
   "language": "python",
   "name": "python3"
  },
  "language_info": {
   "codemirror_mode": {
    "name": "ipython",
    "version": 3
   },
   "file_extension": ".py",
   "mimetype": "text/x-python",
   "name": "python",
   "nbconvert_exporter": "python",
   "pygments_lexer": "ipython3",
   "version": "3.10.6"
  }
 },
 "nbformat": 4,
 "nbformat_minor": 5
}
