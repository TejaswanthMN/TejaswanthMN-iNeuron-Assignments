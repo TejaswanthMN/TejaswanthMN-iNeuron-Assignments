{
 "cells": [
  {
   "cell_type": "markdown",
   "id": "baace9f4-f953-4f0e-9b50-ed3e565f3e49",
   "metadata": {},
   "source": [
    "### Python_Basics_Assignment_14"
   ]
  },
  {
   "cell_type": "markdown",
   "id": "382a6d97-a0d3-4060-bb35-91810377857b",
   "metadata": {},
   "source": [
    "#### 1. What does RGBA stand for?"
   ]
  },
  {
   "cell_type": "markdown",
   "id": "e6d11581-e678-45bb-8cd1-6170eb98f229",
   "metadata": {},
   "source": [
    "rgba stands for: red, green, blue, alpha/level of opacity"
   ]
  },
  {
   "cell_type": "markdown",
   "id": "2f1cac81-9cff-414a-ab46-e4e6093f3a8b",
   "metadata": {},
   "source": [
    "#### 2. From the Pillow module, how do you get the RGBA value of any images?"
   ]
  },
  {
   "cell_type": "markdown",
   "id": "1e98a241-f338-4566-b802-30047367b0a5",
   "metadata": {},
   "source": [
    "using ImageColor.getcolor() function from pillow module we can get RGBA value of any images."
   ]
  },
  {
   "cell_type": "markdown",
   "id": "c6f1844c-ce25-4e91-9635-fce409fd327b",
   "metadata": {},
   "source": [
    "#### 3. What is a box tuple, and how does it work?"
   ]
  },
  {
   "cell_type": "markdown",
   "id": "208a2609-50e6-4665-8be6-9a7cc125129f",
   "metadata": {},
   "source": [
    "Tuple of four integer coordinates that represent a rectangular region in an image"
   ]
  },
  {
   "cell_type": "markdown",
   "id": "570cdda2-4944-4608-8a63-a9effbb0d61e",
   "metadata": {},
   "source": [
    "#### 4. Use your image and load in notebook then, How can you find out the width and height of an Image object?"
   ]
  },
  {
   "cell_type": "raw",
   "id": "9645281d-ede0-4849-ad92-a6e46640c093",
   "metadata": {},
   "source": [
    "# import required module\n",
    "from PIL import Image\n",
    "  \n",
    "# get image\n",
    "filepath = \"geeksforgeeks.png\"\n",
    "img = Image.open(filepath)\n",
    "  \n",
    "# get width and height\n",
    "width = img.width\n",
    "height = img.height\n",
    "  \n",
    "# display width and height\n",
    "print(\"The height of the image is: \", height)\n",
    "print(\"The width of the image is: \", width)"
   ]
  },
  {
   "cell_type": "markdown",
   "id": "e170d57b-9d7e-4347-b91a-87fe0a7959d8",
   "metadata": {},
   "source": [
    "#### 5. What method would you call to get Image object for a 100×100 image, excluding the lower-left quarter of it?"
   ]
  },
  {
   "cell_type": "markdown",
   "id": "2b5ef40c-4d9d-48d5-890e-a518d9bca3f3",
   "metadata": {},
   "source": [
    "crop() method can be used to get Image object for a 100x100 image excluding the lower-left quarter of it."
   ]
  },
  {
   "cell_type": "markdown",
   "id": "35702fba-40b4-48e5-9bdd-3d1be07dd9ff",
   "metadata": {},
   "source": [
    "#### 6. After making changes to an Image object, how could you save it as an image file?"
   ]
  },
  {
   "cell_type": "markdown",
   "id": "6c88114b-7ed5-41d8-90cc-1260fc0d0c44",
   "metadata": {},
   "source": [
    "Image.save() can be used to save the image object after making changes."
   ]
  },
  {
   "cell_type": "markdown",
   "id": "2dcf183b-5961-409c-9948-5dc6adb336a0",
   "metadata": {},
   "source": [
    "#### 7. What module contains Pillow’s shape-drawing code?"
   ]
  },
  {
   "cell_type": "markdown",
   "id": "b86a4762-3220-444b-a03b-52fc869d3657",
   "metadata": {},
   "source": [
    "ImageDraw module contains Pillow’s shape-drawing code."
   ]
  },
  {
   "cell_type": "markdown",
   "id": "7a5a1ff2-4337-4f40-8f9f-5a2d847f02a0",
   "metadata": {},
   "source": [
    "#### 8. Image objects do not have drawing methods. What kind of object does? How do you get this kind of object?"
   ]
  },
  {
   "cell_type": "markdown",
   "id": "de096b32-65e9-46e9-b253-99d919037d86",
   "metadata": {},
   "source": [
    "We can use Pillow’s ImageDraw module and ImageDraw.Draw() function to do drawing."
   ]
  }
 ],
 "metadata": {
  "kernelspec": {
   "display_name": "Python 3 (ipykernel)",
   "language": "python",
   "name": "python3"
  },
  "language_info": {
   "codemirror_mode": {
    "name": "ipython",
    "version": 3
   },
   "file_extension": ".py",
   "mimetype": "text/x-python",
   "name": "python",
   "nbconvert_exporter": "python",
   "pygments_lexer": "ipython3",
   "version": "3.10.6"
  }
 },
 "nbformat": 4,
 "nbformat_minor": 5
}
