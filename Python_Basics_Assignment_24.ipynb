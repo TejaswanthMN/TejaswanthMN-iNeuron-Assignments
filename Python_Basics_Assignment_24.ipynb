{
 "cells": [
  {
   "cell_type": "markdown",
   "id": "6195808f-a12e-49d7-87bc-5248d1cc03c2",
   "metadata": {},
   "source": [
    "### Python_Basics_Assignment_24"
   ]
  },
  {
   "cell_type": "markdown",
   "id": "d4c97d3a-98eb-48c6-b77e-db44d09325f2",
   "metadata": {},
   "source": [
    "#### 1. What is the relationship between def statements and lambda expressions ?"
   ]
  },
  {
   "cell_type": "markdown",
   "id": "dab49d3d-b1ac-4b76-9689-0e2989e3f8db",
   "metadata": {},
   "source": [
    "lambdas are expressions (they are a value), while defs are statements.\n",
    "\n",
    "lambdas can only be one liners\n",
    "\n",
    "lambdas are anonymous — they have no intrinsic names"
   ]
  },
  {
   "cell_type": "markdown",
   "id": "36cb9e60-ee51-4b63-a510-18c2b7a05a65",
   "metadata": {},
   "source": [
    "#### 2. What is the benefit of lambda?"
   ]
  },
  {
   "cell_type": "markdown",
   "id": "695c1e77-be1f-47a2-aee2-f2cba31d5203",
   "metadata": {},
   "source": [
    "The lambda keyword in Python provides a shortcut for declaring small anonymous functions. Lambda functions behave just like regular functions declared with the def keyword. They can be used whenever function objects are required."
   ]
  },
  {
   "cell_type": "markdown",
   "id": "ad9fe83d-5a01-4e31-bb29-6550b4ec2b19",
   "metadata": {},
   "source": [
    "#### 3. Compare and contrast map, filter, and reduce."
   ]
  },
  {
   "cell_type": "markdown",
   "id": "843c550a-9840-4b1c-b5e3-b7669c168f52",
   "metadata": {},
   "source": [
    "Map function takes another function and an iterable (e.g., a list, set, tuple) as input, applies the function to the iterable, and returns an output. The output is a map object (an iterable), which we still have to convert to a set or list. "
   ]
  },
  {
   "cell_type": "markdown",
   "id": "bb9d8918-14d5-4aec-80eb-b7cc3f8adc78",
   "metadata": {},
   "source": [
    "The filter function takes a function and an iterable as inputs. The function in this case needs to be of a Boolean nature, returning True/False values corresponding to the filter conditions. As output, it returns a subset of the input data that meets the conditions stipulated by the function."
   ]
  },
  {
   "cell_type": "markdown",
   "id": "6467ebae-7ee1-41a3-96e5-5a9c53eb32ff",
   "metadata": {},
   "source": [
    "Reduce function must be imported from functools to work properly. It returns a single value (i.e., it reduces the input to a single element). Commonly, this would be something like the sum of all elements in a list."
   ]
  },
  {
   "cell_type": "markdown",
   "id": "d4a2cfac-97c9-4017-9b43-bc57942f8494",
   "metadata": {},
   "source": [
    "#### 4. What are function annotations, and how are they used?"
   ]
  },
  {
   "cell_type": "markdown",
   "id": "a236155c-c493-448e-bda0-1aed1ee764b6",
   "metadata": {},
   "source": [
    "Function annotations are some random expressions which are written with the functions, and they are evaluated at compile time. They do not exist at run time, and there is no meaning of these expressions to python. They are used and interpreted by a third party or external python libraries."
   ]
  },
  {
   "cell_type": "markdown",
   "id": "80163fe8-36a6-4fb4-967a-07d449d4c226",
   "metadata": {},
   "source": [
    "#### 5. What are recursive functions, and how are they used?"
   ]
  },
  {
   "cell_type": "markdown",
   "id": "52e89be8-a469-4c58-aa93-6bc6c57c9a49",
   "metadata": {},
   "source": [
    "A recursive function is a function in code that refers to itself for execution. Recursive functions can be simple or elaborate. They allow for more efficient code writing, for instance, in the listing or compiling of sets of numbers, strings or other variables through a single reiterated process."
   ]
  },
  {
   "cell_type": "markdown",
   "id": "e71e5ab5-7201-4e12-94b2-27f382453519",
   "metadata": {},
   "source": [
    "#### 6. What are some general design guidelines for coding functions?"
   ]
  },
  {
   "cell_type": "markdown",
   "id": "60fc5392-a94c-44a7-9579-dbfbd239f860",
   "metadata": {},
   "source": [
    "Use 4-space indentation and no tabs.\n",
    "\n",
    "Use docstrings\n",
    "\n",
    "Wrap lines so that they don’t exceed 79 characters\n",
    "\n",
    "Use of regular and updated comments are valuable to both the coders and users\n",
    "\n",
    "While naming of function of methods always use self for the first argument"
   ]
  },
  {
   "cell_type": "markdown",
   "id": "005f1a80-1f1a-4b8e-8bea-722e5c4f17f5",
   "metadata": {},
   "source": [
    "#### 7. Name three or more ways that functions can communicate results to a caller."
   ]
  },
  {
   "cell_type": "markdown",
   "id": "5ca6885d-52e9-421c-aeef-14d0260670b9",
   "metadata": {},
   "source": [
    "A function is called using paranthesis ()\n",
    "\n",
    "A return statement can be defined in a function so that it returns something\n",
    "\n",
    "A print statement can be included in a function so that it can directly print the values."
   ]
  }
 ],
 "metadata": {
  "kernelspec": {
   "display_name": "Python 3 (ipykernel)",
   "language": "python",
   "name": "python3"
  },
  "language_info": {
   "codemirror_mode": {
    "name": "ipython",
    "version": 3
   },
   "file_extension": ".py",
   "mimetype": "text/x-python",
   "name": "python",
   "nbconvert_exporter": "python",
   "pygments_lexer": "ipython3",
   "version": "3.10.6"
  }
 },
 "nbformat": 4,
 "nbformat_minor": 5
}
